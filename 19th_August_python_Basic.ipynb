{
 "cells": [
  {
   "cell_type": "code",
   "execution_count": 1,
   "id": "c7dee166-f8d9-40bf-a96f-56a33cf7b116",
   "metadata": {},
   "outputs": [],
   "source": [
    "# question 1) Decleare the variable 'x' and 'y' and assign them integer values. Swap the value of these variable without using temporay variable"
   ]
  },
  {
   "cell_type": "code",
   "execution_count": 4,
   "id": "8151906c-8d6a-4779-9ae1-f826549713b1",
   "metadata": {},
   "outputs": [
    {
     "name": "stdout",
     "output_type": "stream",
     "text": [
      "After swapping: x = 10  , y = 5\n"
     ]
    }
   ],
   "source": [
    "#soltion:\n",
    "\n",
    "# Declare and initalize the variable\n",
    "x = 5\n",
    "y = 10\n",
    "\n",
    "# Swap the values without tempoaray variable\n",
    "x = x + y\n",
    "y = x - y\n",
    "x = x - y\n",
    "\n",
    "# Print the swapped values\n",
    "\n",
    "print(\"After swapping: x =\", x,\" , y =\",y)"
   ]
  },
  {
   "cell_type": "code",
   "execution_count": 5,
   "id": "611710bc-b7d8-4cf6-a64c-c616188f8dd6",
   "metadata": {},
   "outputs": [],
   "source": [
    "# Question 2) Create a program that calculates the area of a rectangle. Take the length and width as inputs from the user and store them in variables. Calculate and display the area"
   ]
  },
  {
   "cell_type": "code",
   "execution_count": 6,
   "id": "acdfa0bf-42b5-4097-bf1a-146028a57109",
   "metadata": {},
   "outputs": [
    {
     "name": "stdin",
     "output_type": "stream",
     "text": [
      "Enter the length of the rectangle:  10\n",
      "Enter the width of the rectangle:  25\n"
     ]
    },
    {
     "name": "stdout",
     "output_type": "stream",
     "text": [
      "The area of the rectangle is: 250.0\n"
     ]
    }
   ],
   "source": [
    "# Solution:\n",
    "\n",
    "# Take input from the user for length and width\n",
    "\n",
    "length = float(input(\"Enter the length of the rectangle: \"))\n",
    "width = float(input(\"Enter the width of the rectangle: \"))\n",
    "\n",
    "# Calculate the area of the rectangle\n",
    "\n",
    "area = length * width\n",
    "\n",
    "# Display the calculated area\n",
    "\n",
    "print(\"The area of the rectangle is:\", area)"
   ]
  },
  {
   "cell_type": "code",
   "execution_count": 7,
   "id": "98be4ecc-3703-4adb-9739-f2ba61f1ca0d",
   "metadata": {},
   "outputs": [],
   "source": [
    "# Question 3) Write a Python program that converts temperatures from Celsius to Fahrenheit. Take the temperature in Celsius as input, store it in a variable, convert it to Fahrenheit, and display the result."
   ]
  },
  {
   "cell_type": "code",
   "execution_count": 8,
   "id": "e1b6c622-5ed2-4aa7-8158-9abd83641136",
   "metadata": {},
   "outputs": [
    {
     "name": "stdin",
     "output_type": "stream",
     "text": [
      "Enter the temperature in Celsius:  50\n"
     ]
    },
    {
     "name": "stdout",
     "output_type": "stream",
     "text": [
      "Temperature in Fahrenheit: 122.0\n"
     ]
    }
   ],
   "source": [
    "# Solution:\n",
    "\n",
    "# Take input from the user for temperature in Celsius\n",
    "celsius = float(input(\"Enter the temperature in Celsius: \"))\n",
    "\n",
    "# Convert Celsius to Fahrenheit using the formula: (Celsius * 9/5) + 32\n",
    "fahrenheit = (celsius * 9/5) + 32\n",
    "\n",
    "# Display the converted temperature in Fahrenheit\n",
    "print(\"Temperature in Fahrenheit:\", fahrenheit)"
   ]
  },
  {
   "cell_type": "code",
   "execution_count": null,
   "id": "42caef87-02ed-4b28-91e4-8f4c04f21261",
   "metadata": {},
   "outputs": [],
   "source": []
  },
  {
   "cell_type": "code",
   "execution_count": 9,
   "id": "a0855f5c-9f5e-47f7-adba-c497ecb43c13",
   "metadata": {},
   "outputs": [],
   "source": [
    "# TOPIC: String Based Question"
   ]
  },
  {
   "cell_type": "code",
   "execution_count": 12,
   "id": "99ebe886-b064-42ca-998a-3c62f59ba7e2",
   "metadata": {},
   "outputs": [],
   "source": [
    "# Question 1) Write a Python program that takes a string as input and prints the length of the string."
   ]
  },
  {
   "cell_type": "code",
   "execution_count": 13,
   "id": "9bb9b608-1db2-4065-a95b-c17c41521574",
   "metadata": {},
   "outputs": [
    {
     "name": "stdin",
     "output_type": "stream",
     "text": [
      "Enter a string:  This is my First python lecture.\n"
     ]
    },
    {
     "name": "stdout",
     "output_type": "stream",
     "text": [
      "The length of the string is: 32\n"
     ]
    }
   ],
   "source": [
    "# Solution\n",
    "\n",
    "# Take input from the user for a string\n",
    "user_input = input(\"Enter a string: \")\n",
    "\n",
    "# Calculate the length of the string using the len() function\n",
    "string_length = len(user_input)\n",
    "\n",
    "# Display the length of the string\n",
    "print(\"The length of the string is:\", string_length)"
   ]
  },
  {
   "cell_type": "code",
   "execution_count": 14,
   "id": "2cec0814-27d5-45f5-ba6f-13b2fc614a95",
   "metadata": {},
   "outputs": [],
   "source": [
    "# Question 2) Create a program that takes a sentence from the user and counts the number of vowels (a, e, i, o, u) in the string."
   ]
  },
  {
   "cell_type": "code",
   "execution_count": 2,
   "id": "1baafba6-5f1d-43fd-838a-1237b31559bc",
   "metadata": {},
   "outputs": [
    {
     "name": "stdin",
     "output_type": "stream",
     "text": [
      "Enter a sentence:  This is my first python lecture.\n"
     ]
    },
    {
     "name": "stdout",
     "output_type": "stream",
     "text": [
      "Number of vowels in the sentence: 7\n"
     ]
    }
   ],
   "source": [
    "# Solution:\n",
    "\n",
    "# Take input from the user for a sentence\n",
    "sentence = input(\"Enter a sentence: \")\n",
    "\n",
    "# Convert the sentence to lowercase to simplify vowel checking\n",
    "sentence_lower = sentence.lower()\n",
    "\n",
    "# Initialize a variable to store the count of vowels\n",
    "vowel_count = 0\n",
    "\n",
    "# Iterate through each character in the sentence\n",
    "for char in sentence_lower:\n",
    "    # Check if the character is a vowel\n",
    "    if char in \"aeiou\":\n",
    "        vowel_count += 1\n",
    "\n",
    "# Display the count of vowels in the sentence\n",
    "print(\"Number of vowels in the sentence:\", vowel_count)"
   ]
  },
  {
   "cell_type": "code",
   "execution_count": null,
   "id": "2ef65bdb-5e3e-46a3-8a25-a8929a946b8e",
   "metadata": {},
   "outputs": [],
   "source": [
    "# Question 3) Given a string, reverse the order of characters using string slicing and print the reversed string."
   ]
  },
  {
   "cell_type": "code",
   "execution_count": 3,
   "id": "2635952c-fc73-4130-823a-0c848c9ab3e0",
   "metadata": {},
   "outputs": [
    {
     "name": "stdin",
     "output_type": "stream",
     "text": [
      "Enter a string:  Python is high level programming language.\n"
     ]
    },
    {
     "name": "stdout",
     "output_type": "stream",
     "text": [
      "Reversed string: .egaugnal gnimmargorp level hgih si nohtyP\n"
     ]
    }
   ],
   "source": [
    "# Solution\n",
    "\n",
    "# Take input from the user for a string\n",
    "original_string = input(\"Enter a string: \")\n",
    "\n",
    "# Reverse the order of characters using string slicing\n",
    "reversed_string = original_string[::-1]\n",
    "\n",
    "# Print the reversed string\n",
    "print(\"Reversed string:\", reversed_string)"
   ]
  },
  {
   "cell_type": "code",
   "execution_count": null,
   "id": "ba372e69-6be6-40a2-b226-6c5b24d9c72a",
   "metadata": {},
   "outputs": [],
   "source": []
  },
  {
   "cell_type": "code",
   "execution_count": null,
   "id": "2ad3c1eb-87b2-4e63-9991-436d118759c5",
   "metadata": {},
   "outputs": [],
   "source": [
    "# Question 4) Write a program that takes a string as input and checks if it is a palindrome reads the same forwards and backwards)."
   ]
  },
  {
   "cell_type": "code",
   "execution_count": 2,
   "id": "6ca195d9-2532-4d72-aa91-80166044e05e",
   "metadata": {},
   "outputs": [
    {
     "name": "stdin",
     "output_type": "stream",
     "text": [
      "Enter a string:  hello world\n"
     ]
    },
    {
     "name": "stdout",
     "output_type": "stream",
     "text": [
      "The entered string is not a palindrome.\n"
     ]
    }
   ],
   "source": [
    "# Solution \n",
    "\n",
    "# Take input from the user for a string\n",
    "original_string = input(\"Enter a string: \")\n",
    "\n",
    "# Remove spaces and convert the string to lowercase for a case-insensitive check\n",
    "cleaned_string = original_string.replace(\" \", \"\").lower()\n",
    "\n",
    "# Check if the cleaned string is a palindrome\n",
    "is_palindrome = cleaned_string == cleaned_string[::-1]\n",
    "\n",
    "# Display the result\n",
    "if is_palindrome:\n",
    "    print(\"The entered string is a palindrome.\")\n",
    "else:\n",
    "    print(\"The entered string is not a palindrome.\")"
   ]
  },
  {
   "cell_type": "code",
   "execution_count": null,
   "id": "ad791088-7459-4c23-bce1-bc7354139022",
   "metadata": {},
   "outputs": [],
   "source": []
  },
  {
   "cell_type": "code",
   "execution_count": null,
   "id": "d6dfc2e9-b4ef-4468-8936-110405b3e23c",
   "metadata": {},
   "outputs": [],
   "source": [
    "# Question 5) Create a program that takes a string as input and removes all the spaces from it. Print the modified string without spaces."
   ]
  },
  {
   "cell_type": "code",
   "execution_count": 1,
   "id": "67a0efbb-72bf-459d-9d09-4cf5846c241d",
   "metadata": {},
   "outputs": [
    {
     "name": "stdin",
     "output_type": "stream",
     "text": [
      "Enter a string:  This is Data Science class.\n"
     ]
    },
    {
     "name": "stdout",
     "output_type": "stream",
     "text": [
      "Modified string without spaces: ThisisDataScienceclass.\n"
     ]
    }
   ],
   "source": [
    "#Solution \n",
    "\n",
    "# Get input from the user\n",
    "user_input = input(\"Enter a string: \")\n",
    "\n",
    "# Remove spaces using the replace method and print the modified string\n",
    "modified_string = user_input.replace(\" \", \"\")\n",
    "\n",
    "# Printing the modified string without spaces\n",
    "print(\"Modified string without spaces:\", modified_string)"
   ]
  },
  {
   "cell_type": "code",
   "execution_count": null,
   "id": "373ea85a-ff36-455c-a5a9-31c1f2357e14",
   "metadata": {},
   "outputs": [],
   "source": []
  }
 ],
 "metadata": {
  "kernelspec": {
   "display_name": "Python 3 (ipykernel)",
   "language": "python",
   "name": "python3"
  },
  "language_info": {
   "codemirror_mode": {
    "name": "ipython",
    "version": 3
   },
   "file_extension": ".py",
   "mimetype": "text/x-python",
   "name": "python",
   "nbconvert_exporter": "python",
   "pygments_lexer": "ipython3",
   "version": "3.10.8"
  }
 },
 "nbformat": 4,
 "nbformat_minor": 5
}
